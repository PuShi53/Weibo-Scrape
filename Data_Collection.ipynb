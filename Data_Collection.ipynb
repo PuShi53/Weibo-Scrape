{
 "cells": [
  {
   "cell_type": "code",
   "execution_count": 12,
   "metadata": {
    "collapsed": true
   },
   "outputs": [],
   "source": [
    "#导入必要的工具包\n",
    "from selenium import webdriver\n",
    "import selenium.webdriver.support.ui as ui\n",
    "from selenium.webdriver.common.action_chains import ActionChains\n",
    "from time import sleep\n",
    "from random import choice\n",
    "import re\n",
    "import pandas as pd"
   ]
  },
  {
   "cell_type": "code",
   "execution_count": 13,
   "metadata": {
    "collapsed": true
   },
   "outputs": [],
   "source": [
    "browser = webdriver.Chrome() # 打开谷歌浏览器\n",
    "wait = ui.WebDriverWait(browser,10) # 设定最长等待加载时间为10秒\n",
    "browser.get(\"http://s.weibo.com/\") #打开微博搜索的地址"
   ]
  },
  {
   "cell_type": "code",
   "execution_count": 14,
   "metadata": {
    "collapsed": true
   },
   "outputs": [],
   "source": [
    "#搜索关键词的函数\n",
    "def search(searchWord):\n",
    "    wait.until(lambda browser: browser.find_element_by_class_name(\"gn_name\")) #等待用户名出现，确认登录成功\n",
    "    inputBtn = browser.find_element_by_tag_name(\"input\") #找到搜索框\n",
    "    inputBtn.click()\n",
    "    inputBtn.send_keys(searchWord) #输入搜索关键词\n",
    "    browser.implicitly_wait(10)\n",
    "    browser.find_element_by_xpath(\"//button[@node-type='submit']\").click() #点击“搜索”"
   ]
  },
  {
   "cell_type": "code",
   "execution_count": 15,
   "metadata": {
    "collapsed": true
   },
   "outputs": [],
   "source": [
    "#模拟登陆函数\n",
    "def login(username,password):\n",
    "    wait.until(lambda browser: browser.find_element_by_xpath(\"//a[@node-type='loginBtn']\"))#找到左上角登录按钮\n",
    "    browser.find_element_by_xpath(\"//a[@node-type='loginBtn']\").click() #点击登录按钮\n",
    "    wait.until(lambda browser: browser.find_element_by_xpath(\"//input[@name='username']\")) #等待登录页面出现\n",
    "    user = browser.find_element_by_xpath(\"//input[@name='username']\")\n",
    "    user.clear() \n",
    "    user.send_keys(username) #输入用户名\n",
    "    psw = browser.find_element_by_xpath(\"//input[@name='password']\")\n",
    "    psw.clear()\n",
    "    psw.send_keys(password) #输入密码\n",
    "    browser.find_element_by_xpath(\"//a[@node-type='submitBtn']\").click() #点击“登录”"
   ]
  },
  {
   "cell_type": "code",
   "execution_count": 16,
   "metadata": {
    "collapsed": true
   },
   "outputs": [],
   "source": [
    "#模拟登录操作\n",
    "login('xxxxxx','xxxxxx')"
   ]
  },
  {
   "cell_type": "code",
   "execution_count": 17,
   "metadata": {
    "collapsed": true
   },
   "outputs": [],
   "source": [
    "#爬虫获取信息的函数\n",
    "def gettext(stressword,skinword):\n",
    "    \n",
    "    names=[]\n",
    "    stresswords=[]\n",
    "    skinwords=[]\n",
    "    dates=[]\n",
    "    sources=[]\n",
    "    contents =[]\n",
    "    forwards=[]\n",
    "    comments=[]\n",
    "    likes=[]\n",
    "    \n",
    "\n",
    "    #展开微博全文\n",
    "    full_content=browser.find_elements_by_link_text(\"展开全文\")\n",
    "    for i in full_content:\n",
    "        i.click()\n",
    "    \n",
    "    #获取用户姓名\n",
    "    name=browser.find_elements_by_xpath(\"//div[@class='card-feed']/div[@class='content']/div[@class='info']\")\n",
    "    \n",
    "    for i in name:\n",
    "        stresswords.append(stressword)\n",
    "        skinwords.append(skinword)\n",
    "        names.append(i.text)\n",
    "    \n",
    "    #获取日期和超链接\n",
    "    date_source=browser.find_elements_by_xpath(\"//div[@class='card-feed']//div[@class='content']/p[@class='from']/a[@target='_blank']\")\n",
    "    \n",
    "    for i in date_source:\n",
    "        dates.append(i.text)\n",
    "        sources.append(i.get_attribute('href'))\n",
    "    \n",
    "    #获取文本内容\n",
    "    content = browser.find_elements_by_xpath(\"//p[@node-type='feed_list_content']\")\n",
    "    \n",
    "    for n in content:\n",
    "        try:\n",
    "            emojiToDie = re.compile(u'[\\U00010000-\\U0010ffff]')\n",
    "        except re.error:\n",
    "            emojiToDie = re.compile(u'[\\uD800-\\uDBFF][\\uDC00-\\uDFFF]')\n",
    "        mytext = emojiToDie.sub(u'', n.text) ##emojiToDie 顾名思义，是为了解决微博文本内容里的emoji图像而建立的一个正则表达式，我为什么这么恨emoji呢，因为你在往数据库里存，在解析它的时候，都会报错，所以干脆给它过滤掉\n",
    "        contents.append(mytext) ##把每一条微博加到容器里\n",
    "    \n",
    "    #获取转赞评\n",
    "    forward=browser.find_elements_by_xpath(\"//div[@class='card-act']/ul/li/a[@action-type='feed_list_forward']\")\n",
    "    comment=browser.find_elements_by_xpath(\"//div[@class='card-act']/ul/li/a[@action-type='feed_list_comment']\")\n",
    "    like=browser.find_elements_by_xpath(\"//div[@class='card-act']/ul/li/a[@action-type='feed_list_like']\")\n",
    "    \n",
    "    for i in range(0, len(forward)):\n",
    "        forwards.append(forward[i].text)\n",
    "        comments.append(comment[i].text)\n",
    "        likes.append(like[i].text)\n",
    "        \n",
    "    \n",
    "    all_text=list(zip(stresswords,skinwords,names,dates,contents,forwards,comments,likes,sources))\n",
    "    \n",
    "    return all_text"
   ]
  },
  {
   "cell_type": "code",
   "execution_count": 18,
   "metadata": {
    "collapsed": true
   },
   "outputs": [],
   "source": [
    "#翻页函数\n",
    "def nextPage(stressword, skinword):\n",
    "    full=[]\n",
    "    browser.get('https://s.weibo.com/weibo?q={}%20{}&scope=ori&suball=1&timescope=custom:2020-03-10-0:2020-04-10-0&Refer=SWeibo_box&page={}'.format(stressword, skinword,1))\n",
    "    length=len(browser.find_elements_by_xpath(\"//div[@class='m-page']/div/span/ul/li\"))\n",
    "    for i in range(1,length+1):\n",
    "        browser.implicitly_wait(10)\n",
    "        \n",
    "        browser.get('https://s.weibo.com/weibo?q={}%20{}&scope=ori&suball=1&timescope=custom:2020-03-10-0:2020-04-10-0&Refer=SWeibo_box&page={}'.format(stressword, skinword,i))\n",
    "        content=gettext(stressword, skinword)\n",
    "        full+=content\n",
    "    result=pd.DataFrame(full,columns=['压力词','皮肤词','用户名','日期','内容','转发数','评论数','点赞数','数据源'])\n",
    "    return result"
   ]
  },
  {
   "cell_type": "code",
   "execution_count": 21,
   "metadata": {
    "collapsed": true
   },
   "outputs": [],
   "source": [
    "#搜索关键词存入列表\n",
    "searchword_stress=['宝宝','孩子','孕期','父母','爸妈','催婚']\n",
    "searchword_skin=['皮肤','痘','过敏','干燥','皱纹','闭口','黑眼圈','衰老','毛孔','湿疹','松弛','粉刺','皮炎','黑头','细纹']"
   ]
  },
  {
   "cell_type": "code",
   "execution_count": 20,
   "metadata": {
    "collapsed": true
   },
   "outputs": [],
   "source": [
    "#根据关键词运行爬虫函数并储存\n",
    "for i in searchword_stress:\n",
    "    for j in searchword_skin:\n",
    "        a=nextPage(i,j)\n",
    "        a.to_excel('{}_{}.xlsx'.format(i,j))"
   ]
  }
 ],
 "metadata": {
  "kernelspec": {
   "display_name": "Python 3",
   "language": "python",
   "name": "python3"
  },
  "language_info": {
   "codemirror_mode": {
    "name": "ipython",
    "version": 3
   },
   "file_extension": ".py",
   "mimetype": "text/x-python",
   "name": "python",
   "nbconvert_exporter": "python",
   "pygments_lexer": "ipython3",
   "version": "3.6.2"
  }
 },
 "nbformat": 4,
 "nbformat_minor": 2
}
